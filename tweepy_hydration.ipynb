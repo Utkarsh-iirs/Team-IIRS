{
 "cells": [
  {
   "cell_type": "code",
   "execution_count": null,
   "id": "af039066",
   "metadata": {},
   "outputs": [],
   "source": [
    "import os\n",
    "import glob\n",
    "os.chdir('path') ##add your own path\n",
    "\n",
    "import tweepy ##give your twitter developer account credentials\n",
    "consumer_key = \"----\"\n",
    "consumer_secret = \"----\"\n",
    "access_token = \"----\"\n",
    "access_token_secret = \"----\"\n",
    "\n",
    "auth = tweepy.OAuthHandler(consumer_key, consumer_secret)\n",
    "auth.set_access_token(access_token, access_token_secret)\n",
    "\n",
    "api = tweepy.API(auth)\n",
    "import pandas as pd\n",
    "import datetime"
   ]
  },
  {
   "cell_type": "code",
   "execution_count": null,
   "id": "61bd1da0",
   "metadata": {
    "scrolled": true
   },
   "outputs": [],
   "source": [
    "print(\"Start time is:\", datetime.datetime.now())\n",
    "\n",
    "##setting input and output\n",
    "file= r'input csv path' ## change accordingly\n",
    "result = r'output csv path'\n",
    "count=0\n",
    "\n",
    "## creating an output csv file\n",
    "df = pd.DataFrame(columns=[\"id\",\"date\",\"time\",\"text\",\"long\",\"lat\",\"country\",\"city\",\"lang\"])\n",
    "df.to_csv(result, index=False) ##Change accordingly\n",
    "\n",
    "##hydration\n",
    "data = pd.read_csv(file,names=['tweet_id','sentiment']) \n",
    "tweet_id = list(data['tweet_id'])\n",
    "for ids in tweet_id:\n",
    "    try:\n",
    "        tweet = api.get_status(ids)\n",
    "        if tweet.place.country == 'India': ## filtering for india\n",
    "            ##getting data from tweet id\n",
    "            df_temp = pd.DataFrame(columns=[\"id\",\"date\",\"time\",\"text\",\"long\",\"lat\",\"country\",\"city\",\"lang\"])\n",
    "            count+=1\n",
    "            date = tweet .created_at.date()\n",
    "            time = tweet.created_at.time()\n",
    "            text = tweet.text\n",
    "            long, lat = tweet.coordinates['coordinates']\n",
    "            country = tweet.place.country\n",
    "            city = tweet.place.name\n",
    "            lang = tweet.lang\n",
    "            ## temporary dataframe\n",
    "            df_temp = pd.DataFrame({\"id\":ids,\"date\":date,\"time\":time,\"text\":text,\"long\":long,\"lat\":lat,\"country\":country,\"city\":city,\"lang\":lang},index=[0])\n",
    "            print(count,date,time,'now it is:',datetime.datetime.now())\n",
    "            ## actively writing to csv\n",
    "            df_temp.to_csv(result, mode='a', header=False, index=False)\n",
    "    except:\n",
    "        pass\n",
    "\n",
    "## denoting the end\n",
    "print('The end')\n",
    "print(\"End time is:\", datetime.datetime.now())"
   ]
  },
  {
   "cell_type": "code",
   "execution_count": null,
   "id": "5fd1dcac",
   "metadata": {
    "scrolled": true
   },
   "outputs": [],
   "source": []
  },
  {
   "cell_type": "code",
   "execution_count": null,
   "id": "7e471f0c",
   "metadata": {},
   "outputs": [],
   "source": []
  }
 ],
 "metadata": {
  "kernelspec": {
   "display_name": "Python 3 (ipykernel)",
   "language": "python",
   "name": "python3"
  },
  "language_info": {
   "codemirror_mode": {
    "name": "ipython",
    "version": 3
   },
   "file_extension": ".py",
   "mimetype": "text/x-python",
   "name": "python",
   "nbconvert_exporter": "python",
   "pygments_lexer": "ipython3",
   "version": "3.9.13"
  }
 },
 "nbformat": 4,
 "nbformat_minor": 5
}
