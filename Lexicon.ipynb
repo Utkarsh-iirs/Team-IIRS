{
 "cells": [
  {
   "cell_type": "code",
   "execution_count": 1,
   "id": "bee1beff",
   "metadata": {},
   "outputs": [],
   "source": [
    "import pandas as pd\n",
    "import re\n",
    "\n",
    "# Load the tweets dataset\n",
    "tweets = pd.read_csv(r'C:\\Users\\Meghaa\\Downloads\\trial_label.csv')\n",
    "\n",
    "# Load the positive and negative word lists\n",
    "positive_words = set(open(r'C:\\Users\\Meghaa\\bigdata\\positive-words.txt').read().splitlines())\n",
    "negative_words = set(open(r'C:\\Users\\Meghaa\\bigdata\\negative-words.txt').read().splitlines())"
   ]
  },
  {
   "cell_type": "code",
   "execution_count": 4,
   "id": "649cfa95",
   "metadata": {},
   "outputs": [],
   "source": [
    "def count_words(tweet):\n",
    "    # Tokenize the tweet\n",
    "    words = str(tweet).split()\n",
    "\n",
    "    # Count the positive and negative words\n",
    "    positive_count = sum(1 for w in words if w in positive_words)\n",
    "    negative_count = sum(1 for w in words if w in negative_words)\n",
    "\n",
    "    # Classify the tweet\n",
    "    if positive_count > negative_count:\n",
    "        return 1\n",
    "    elif negative_count > positive_count:\n",
    "        return -1\n",
    "    else:\n",
    "        return 0\n",
    "\n",
    "tweets['label'] = tweets['cleaned_text'].apply(count_words)"
   ]
  },
  {
   "cell_type": "code",
   "execution_count": 7,
   "id": "150ed301",
   "metadata": {},
   "outputs": [],
   "source": [
    "# writing to csv\n",
    "tweets.to_csv(r'C:\\Users\\Meghaa\\Downloads\\trial_label.csv', header=True, index=False)"
   ]
  },
  {
   "cell_type": "code",
   "execution_count": null,
   "id": "8a15f779",
   "metadata": {},
   "outputs": [],
   "source": []
  }
 ],
 "metadata": {
  "kernelspec": {
   "display_name": "Python 3 (ipykernel)",
   "language": "python",
   "name": "python3"
  },
  "language_info": {
   "codemirror_mode": {
    "name": "ipython",
    "version": 3
   },
   "file_extension": ".py",
   "mimetype": "text/x-python",
   "name": "python",
   "nbconvert_exporter": "python",
   "pygments_lexer": "ipython3",
   "version": "3.9.13"
  }
 },
 "nbformat": 4,
 "nbformat_minor": 5
}
